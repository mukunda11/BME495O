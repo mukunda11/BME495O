{
 "cells": [
  {
   "cell_type": "code",
   "execution_count": 1,
   "metadata": {
    "collapsed": true
   },
   "outputs": [],
   "source": [
    "import torch\n",
    "import torch.nn as nn\n",
    "import torch.nn.functional as F\n",
    "import torch.optim as optim\n",
    "from torch.autograd import Variable\n",
    "import matplotlib.pyplot as plt\n",
    "import time\n",
    "import numpy as np\n",
    "import pandas as pd"
   ]
  },
  {
   "cell_type": "code",
   "execution_count": 2,
   "metadata": {
    "collapsed": true
   },
   "outputs": [],
   "source": [
    "def normalize(df):\n",
    "    result = df.copy()\n",
    "    print(len(result.transpose()))\n",
    "    for feature_name in range(len(result.transpose())):\n",
    "        max_value = df[1:1800, feature_name].max()\n",
    "        min_value = df[1:1800, feature_name].min()\n",
    "        a = 1 / (max_value-min_value)\n",
    "        b = 1 - a * max_value\n",
    "        result[1:1800,feature_name] = (df[1:1800, feature_name] * a + b)\n",
    "    return result"
   ]
  },
  {
   "cell_type": "code",
   "execution_count": null,
   "metadata": {
    "collapsed": true
   },
   "outputs": [],
   "source": []
  },
  {
   "cell_type": "code",
   "execution_count": 9,
   "metadata": {},
   "outputs": [],
   "source": [
    "class ecg2class(nn.Module):\n",
    "    def __init__(self):\n",
    "        super(ecg2class, self).__init__()\n",
    "        self.conv1 = nn.Conv1d(1, 6, 5, 1, 0, 1)\n",
    "        self.conv2 = nn.Conv1d(6, 16, 5, 1, 0, 1)\n",
    "        self.fc1 = nn.Linear(446 * 16, 446*4)\n",
    "        self.fc2 = nn.Linear(446 * 4, 100)\n",
    "        self.fc3 = nn.Linear(100,3)\n",
    "        \n",
    "        \n",
    "        data0 = pd.read_csv('arrhythmia5_TrainData.csv', header=None, low_memory=False)\n",
    "        y = data0.values.astype(float)\n",
    "        self.z = normalize(y)\n",
    "        \n",
    "        valdata0 = pd.read_csv('arrhythmia5_ValData.csv', header=None, low_memory=False)\n",
    "        valy = valdata0.values.astype(float)\n",
    "        self.valz = normalize(valy)\n",
    "    \n",
    "    def train(self):\n",
    "        mbatch = 242;\n",
    "        mepoch = 25;\n",
    "        output_nodes = 3;\n",
    "        num_batch = 2;\n",
    "        vnum_batch = 1;\n",
    "        vmbatch = 58;\n",
    "        convDrop = nn.Dropout(p=0.2)\n",
    "        MLPDrop = nn.Dropout(p=0.5)\n",
    "        tanh = nn.Tanh()\n",
    "        softmax = nn.Softmax(1)\n",
    "        \n",
    "        trainsumerrora = []\n",
    "        valsumerrora = []\n",
    "        accuracya = []\n",
    "        accuracya1 = []\n",
    "        epocha = []\n",
    "        starttime = time.time()\n",
    "        optimizer = optim.SGD(self.parameters(), lr = 0.01, momentum = 0.9)\n",
    "        criterion = nn.CrossEntropyLoss()\n",
    "        out_loss = nn.MSELoss()\n",
    "        \n",
    "        for epoch in range(0, mepoch):\n",
    "            epocha.append(epoch)  \n",
    "            trainsumerror = 0\n",
    "            valsumerror = 0\n",
    "            x = np.random.permutation(self.z.transpose())\n",
    "            data1 = torch.FloatTensor(x.transpose())\n",
    "            input_date = data1[1:1799].unsqueeze(1).transpose(0,2)\n",
    "            labels = data1[0]\n",
    "            count1 = 0\n",
    "            for z in range(num_batch):\n",
    "                optimizer.zero_grad()\n",
    "                start = int(mbatch / num_batch  * z);\n",
    "                finish = int(mbatch / num_batch * (z+1)- 1);\n",
    "                input_dat = input_date[start:finish, :, :]\n",
    "                target_matrix = torch.zeros(output_nodes, int(mbatch / num_batch)-1).double()\n",
    "                \n",
    "                for batch in range(int(mbatch/num_batch)-1):\n",
    "                    idx = start + batch\n",
    "                    target_matrix[int(labels[idx]), batch] = 1\n",
    "                    \n",
    "                \n",
    "                targetV = Variable(target_matrix.float())\n",
    "                \n",
    "                \n",
    "                out = tanh(self.conv1(Variable(input_dat)))\n",
    "                out = F.max_pool1d(out, 2)\n",
    "                out = tanh(self.conv2(out))\n",
    "                out = F.max_pool1d(out, 2)\n",
    "                out = out.view(-1, 446 * 16)\n",
    "                out = tanh(self.fc1(out))\n",
    "                out = tanh(self.fc2(out))\n",
    "                out = tanh(self.fc3(out))\n",
    "                out = softmax(out)\n",
    "                \n",
    "                loss = out_loss(out.float(), targetV.float())\n",
    "                #print(torch.max(targetV.long(),0)[1])\n",
    "                #loss = criterion(out.float(), torch.max(targetV,0)[1])\n",
    "                loss.backward()\n",
    "                optimizer.step()\n",
    "            \n",
    "                trainsumerror = trainsumerror + loss[0].detach().numpy()[0]\n",
    "                \n",
    "                for batch in range(int(mbatch/num_batch)-1):\n",
    "                    if torch.max(targetV,0)[1][batch] == torch.max(out,1)[1][batch]:\n",
    "                        count1 = count1 + 1\n",
    "                        \n",
    "            accuracy1 = count1/mbatch\n",
    "              \n",
    "            valx = np.random.permutation(self.valz.transpose())\n",
    "            valdata1 = torch.FloatTensor(valx.transpose())\n",
    "            valinput_dat = valdata1[1:1799].unsqueeze(1).transpose(0,2)\n",
    "            vallabels = valdata1[0]\n",
    "            \n",
    "            for z in range(vnum_batch):\n",
    "                valtarget_matrix = torch.zeros(output_nodes, int(vmbatch / vnum_batch)).double()\n",
    "                \n",
    "                for batch in range(int(vmbatch/vnum_batch)):\n",
    "                    valtarget_matrix[int(labels[batch]), batch] = 1\n",
    "                    \n",
    "                \n",
    "                valtargetV = Variable(valtarget_matrix.float())\n",
    "                \n",
    "                \n",
    "                out = tanh(self.conv1(Variable(valinput_dat)))\n",
    "                out = F.max_pool1d(out, 2)\n",
    "                out = tanh(self.conv2(out))\n",
    "                out = F.max_pool1d(out, 2)\n",
    "                out = out.view(-1, 446 * 16)\n",
    "                out = tanh(self.fc1(out))\n",
    "                out = tanh(self.fc2(out))\n",
    "                out = tanh(self.fc3(out))\n",
    "                \n",
    "                out = softmax(out)\n",
    "                \n",
    "                lossv = out_loss(out.float(), valtargetV.float())\n",
    "                #lossv = criterion(out.float(), torch.max(valtargetV,0)[1])\n",
    "                \n",
    "                valsumerror = valsumerror + lossv[0].detach().numpy()[0]\n",
    "                \n",
    "                count = 0\n",
    "                \n",
    "                for batch in range(int(vmbatch/vnum_batch)):\n",
    "                    if torch.max(valtargetV,0)[1][batch] == torch.max(out,1)[1][batch]:\n",
    "                        count = count + 1\n",
    "                \n",
    "                accuracy = count / vmbatch\n",
    "            \n",
    "            print(\"Train Error: \",trainsumerror/num_batch, \" Val Error: \", valsumerror/vnum_batch, \" Accuracy: \", accuracy)\n",
    "            \n",
    "            valsumerrora.append(valsumerror/vnum_batch)\n",
    "            trainsumerrora.append(trainsumerror/num_batch)\n",
    "            accuracya.append(accuracy)\n",
    "            accuracya1.append(accuracy1)\n",
    "            \n",
    "        endtime = time.time()\n",
    "        averageTime = (endtime - starttime)/mepoch\n",
    "        print(averageTime)\n",
    "        \n",
    "        plt.figure(1)\n",
    "        fig, ax = plt.subplots()\n",
    "        ax.plot(epocha, trainsumerrora, 'r', label = 'Training Error')\n",
    "        ax.plot(epocha, valsumerrora, 'b', label = 'Validation Error')\n",
    "        plt.xlabel('Epochs')\n",
    "        plt.ylabel('Loss')\n",
    "        legend = ax.legend()\n",
    "        plt.show()\n",
    "        \n",
    "        plt.figure(2)\n",
    "        plt.plot(epocha, accuracya1, 'r', label = 'Training Accuracy')\n",
    "        plt.plot(epocha, accuracya, 'b', label = 'Validation Accuracy')\n",
    "        plt.xlabel('Epochs')\n",
    "        plt.ylabel('Accuracy')\n",
    "        legend = plt.legend()\n",
    "        plt.show()"
   ]
  },
  {
   "cell_type": "code",
   "execution_count": 10,
   "metadata": {},
   "outputs": [
    {
     "name": "stdout",
     "output_type": "stream",
     "text": [
      "243\n",
      "58\n",
      "Train Error:  0.222310274839  Val Error:  0.22227960825  Accuracy:  0.5689655172413793\n",
      "Train Error:  0.222317241132  Val Error:  0.222334191203  Accuracy:  0.46551724137931033\n",
      "Train Error:  0.222310781479  Val Error:  0.222077667713  Accuracy:  0.4482758620689655\n",
      "Train Error:  0.222179636359  Val Error:  0.222472637892  Accuracy:  0.3620689655172414\n",
      "Train Error:  0.222225576639  Val Error:  0.222012624145  Accuracy:  0.4482758620689655\n",
      "Train Error:  0.222247049212  Val Error:  0.222322285175  Accuracy:  0.22413793103448276\n",
      "Train Error:  0.222147271037  Val Error:  0.222020551562  Accuracy:  0.25862068965517243\n",
      "Train Error:  0.222121439874  Val Error:  0.222178295255  Accuracy:  0.25862068965517243\n",
      "Train Error:  0.222216755152  Val Error:  0.221940994263  Accuracy:  0.1724137931034483\n",
      "Train Error:  0.222217597067  Val Error:  0.222324371338  Accuracy:  0.1724137931034483\n",
      "Train Error:  0.222258046269  Val Error:  0.2229039222  Accuracy:  0.20689655172413793\n",
      "Train Error:  0.222325347364  Val Error:  0.222250923514  Accuracy:  0.29310344827586204\n",
      "Train Error:  0.222262978554  Val Error:  0.221914306283  Accuracy:  0.3620689655172414\n",
      "Train Error:  0.222218371928  Val Error:  0.222227156162  Accuracy:  0.5517241379310345\n",
      "Train Error:  0.222287923098  Val Error:  0.222357496619  Accuracy:  0.5862068965517241\n",
      "Train Error:  0.222249962389  Val Error:  0.222430422902  Accuracy:  0.5344827586206896\n",
      "Train Error:  0.222212918103  Val Error:  0.222209364176  Accuracy:  0.5344827586206896\n",
      "Train Error:  0.222265265882  Val Error:  0.222195729613  Accuracy:  0.5\n",
      "Train Error:  0.222108699381  Val Error:  0.222231090069  Accuracy:  0.5172413793103449\n",
      "Train Error:  0.222251117229  Val Error:  0.222152233124  Accuracy:  0.43103448275862066\n",
      "Train Error:  0.222236827016  Val Error:  0.222138658166  Accuracy:  0.4482758620689655\n",
      "Train Error:  0.222110435367  Val Error:  0.222485855222  Accuracy:  0.41379310344827586\n",
      "Train Error:  0.222280807793  Val Error:  0.222151726484  Accuracy:  0.39655172413793105\n",
      "Train Error:  0.222249247134  Val Error:  0.22211869061  Accuracy:  0.3793103448275862\n",
      "Train Error:  0.22215667367  Val Error:  0.222358241677  Accuracy:  0.3620689655172414\n",
      "1.7968123149871826\n"
     ]
    },
    {
     "data": {
      "text/plain": [
       "<matplotlib.figure.Figure at 0xa6e9778c>"
      ]
     },
     "metadata": {},
     "output_type": "display_data"
    },
    {
     "data": {
      "image/png": "[encoded data removed]",
      "text/plain": [
       "<matplotlib.figure.Figure at 0xaa33644c>"
      ]
     },
     "metadata": {},
     "output_type": "display_data"
    },
    {
     "data": {
      "image/png": "[encoded data removed]",
      "text/plain": [
       "<matplotlib.figure.Figure at 0xa6f5576c>"
      ]
     },
     "metadata": {},
     "output_type": "display_data"
    }
   ],
   "source": [
    "ecgModel = ecg2class()\n",
    "ecgModel.train()"
   ]
  },
  {
   "cell_type": "code",
   "execution_count": null,
   "metadata": {},
   "outputs": [],
   "source": []
  },
  {
   "cell_type": "code",
   "execution_count": null,
   "metadata": {
    "collapsed": true
   },
   "outputs": [],
   "source": []
  },
  {
   "cell_type": "code",
   "execution_count": null,
   "metadata": {
    "collapsed": true
   },
   "outputs": [],
   "source": []
  },
  {
   "cell_type": "code",
   "execution_count": null,
   "metadata": {
    "collapsed": true
   },
   "outputs": [],
   "source": []
  }
 ],
 "metadata": {
  "kernelspec": {
   "display_name": "Python 3",
   "language": "python",
   "name": "python3"
  },
  "language_info": {
   "codemirror_mode": {
    "name": "ipython",
    "version": 3
   },
   "file_extension": ".py",
   "mimetype": "text/x-python",
   "name": "python",
   "nbconvert_exporter": "python",
   "pygments_lexer": "ipython3",
   "version": "3.6.3"
  }
 },
 "nbformat": 4,
 "nbformat_minor": 2
}
