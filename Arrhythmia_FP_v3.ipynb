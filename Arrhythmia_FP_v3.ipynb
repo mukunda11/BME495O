{
 "cells": [
  {
   "cell_type": "code",
   "execution_count": 1,
   "metadata": {
    "collapsed": true
   },
   "outputs": [],
   "source": [
    "import torch\n",
    "import torch.nn as nn\n",
    "import torch.nn.functional as F\n",
    "import torch.optim as optim\n",
    "from torch.autograd import Variable\n",
    "import matplotlib.pyplot as plt\n",
    "import time\n",
    "import numpy as np\n",
    "import pandas as pd"
   ]
  },
  {
   "cell_type": "code",
   "execution_count": 2,
   "metadata": {
    "collapsed": true
   },
   "outputs": [],
   "source": [
    "def normalize(df):\n",
    "    result = df.copy()\n",
    "    print(len(result.transpose()))\n",
    "    for feature_name in range(len(result.transpose())):\n",
    "        max_value = df[1:1800, feature_name].max()\n",
    "        min_value = df[1:1800, feature_name].min()\n",
    "        a = 1 / (max_value-min_value)\n",
    "        b = 1 - a * max_value\n",
    "        result[1:1800,feature_name] = (df[1:1800, feature_name] * a + b)\n",
    "    return result"
   ]
  },
  {
   "cell_type": "code",
   "execution_count": null,
   "metadata": {
    "collapsed": true
   },
   "outputs": [],
   "source": []
  },
  {
   "cell_type": "code",
   "execution_count": 54,
   "metadata": {},
   "outputs": [],
   "source": [
    "class ecg2class(nn.Module):\n",
    "    def __init__(self):\n",
    "        super(ecg2class, self).__init__()\n",
    "        self.conv1 = nn.Conv1d(1, 30, 5)\n",
    "        self.conv2 = nn.Conv1d(30, 30, 5)\n",
    "        self.conv3 = nn.Conv1d(30, 15, 5)\n",
    "        self.conv4 = nn.Conv1d(15, 15, 5)\n",
    "        self.conv5 = nn.Conv1d(15, 15, 5)\n",
    "        self.fc1 = nn.Linear(217*15, 217*3)\n",
    "        self.fc2 = nn.Linear(217*3, 217)\n",
    "        self.fc3 = nn.Linear(217, 3)\n",
    "        \n",
    "        data0 = pd.read_csv('arrhythmia5_TrainData.csv', header=None, low_memory=False)\n",
    "        y = data0.values.astype(float)\n",
    "        self.z = normalize(y)\n",
    "        \n",
    "        valdata0 = pd.read_csv('arrhythmia5_ValData.csv', header=None, low_memory=False)\n",
    "        valy = valdata0.values.astype(float)\n",
    "        self.valz = normalize(valy)\n",
    "    \n",
    "    def train(self):\n",
    "        mbatch = 242;\n",
    "        mepoch = 25;\n",
    "        output_nodes = 3;\n",
    "        num_batch = 1;\n",
    "        vnum_batch = 1;\n",
    "        vmbatch = 58;\n",
    "        convDrop = nn.Dropout(p=0.2)\n",
    "        MLPDrop = nn.Dropout(p=0.5)\n",
    "        tanh = nn.Tanh()\n",
    "        softmax = nn.Softmax(1)\n",
    "        \n",
    "        trainsumerrora = []\n",
    "        valsumerrora = []\n",
    "        accuracya = []\n",
    "        epocha = []\n",
    "        starttime = time.time()\n",
    "        optimizer = optim.SGD(self.parameters(), lr = 0.01, momentum = 0.9)\n",
    "        criterion = nn.CrossEntropyLoss()\n",
    "        out_loss = nn.MSELoss()\n",
    "        \n",
    "        for epoch in range(0, mepoch):\n",
    "            epocha.append(epoch)  \n",
    "            trainsumerror = 0\n",
    "            valsumerror = 0\n",
    "            x = np.random.permutation(self.z.transpose())\n",
    "            data1 = torch.FloatTensor(x.transpose())\n",
    "            input_date = data1[1:1799].unsqueeze(1).transpose(0,2)\n",
    "            labels = data1[0]\n",
    "            \n",
    "            for z in range(num_batch):\n",
    "                optimizer.zero_grad()\n",
    "                start = int(mbatch / num_batch  * z);\n",
    "                finish = int(mbatch / num_batch * (z+1)- 1);\n",
    "                input_dat = input_date[start:finish, :, :]\n",
    "                target_matrix = torch.zeros(output_nodes, int(mbatch / num_batch)-1).double()\n",
    "                \n",
    "                for batch in range(int(mbatch/num_batch)-1):\n",
    "                    idx = start + batch\n",
    "                    target_matrix[int(labels[idx]), batch] = 1\n",
    "                    \n",
    "                \n",
    "                targetV = Variable(target_matrix.float())\n",
    "                \n",
    "                out = tanh(self.conv1(Variable(input_dat)))\n",
    "                out = tanh(self.conv2(out))\n",
    "                out = F.max_pool1d(out, 2)\n",
    "                out = convDrop(out)\n",
    "                out = tanh(self.conv3(out))\n",
    "                out = tanh(self.conv4(out))\n",
    "                out = F.max_pool1d(out, 2)\n",
    "                out = convDrop(out)\n",
    "                out = tanh(self.conv4(out))\n",
    "                out = tanh(self.conv5(out))\n",
    "                out = F.max_pool1d(out, 2)\n",
    "                out = convDrop(out)\n",
    "                out = out.view(-1, 217*15)\n",
    "                out = tanh(self.fc1(out))\n",
    "                out = MLPDrop(out)\n",
    "                out = tanh(self.fc2(out))\n",
    "                out = MLPDrop(out)\n",
    "                out = tanh(self.fc3(out))\n",
    "                out = MLPDrop(out)\n",
    "                out = softmax(out)\n",
    "                \n",
    "                #loss = out_loss(out.float(), targetV.float())\n",
    "                #print(torch.max(targetV.long(),0)[1])\n",
    "                loss = criterion(out.float(), torch.max(targetV,0)[1])\n",
    "                loss.backward()\n",
    "                optimizer.step()\n",
    "            \n",
    "                trainsumerror = trainsumerror + loss[0].detach().numpy()[0]\n",
    "              \n",
    "            valx = np.random.permutation(self.valz.transpose())\n",
    "            valdata1 = torch.FloatTensor(valx.transpose())\n",
    "            valinput_dat = valdata1[1:1799].unsqueeze(1).transpose(0,2)\n",
    "            vallabels = valdata1[0]\n",
    "            \n",
    "            for z in range(vnum_batch):\n",
    "                valtarget_matrix = torch.zeros(output_nodes, int(vmbatch / vnum_batch)).double()\n",
    "                \n",
    "                for batch in range(int(vmbatch/vnum_batch)):\n",
    "                    valtarget_matrix[int(labels[batch]), batch] = 1\n",
    "                    \n",
    "                \n",
    "                valtargetV = Variable(valtarget_matrix.float())\n",
    "                \n",
    "                out = tanh(self.conv1(Variable(valinput_dat)))\n",
    "                out = tanh(self.conv2(out))\n",
    "                out = F.max_pool1d(out, 2)\n",
    "                out = convDrop(out)\n",
    "                out = tanh(self.conv3(out))\n",
    "                out = tanh(self.conv4(out))\n",
    "                out = F.max_pool1d(out, 2)\n",
    "                out = convDrop(out)\n",
    "                out = tanh(self.conv4(out))\n",
    "                out = tanh(self.conv5(out))\n",
    "                out = F.max_pool1d(out, 2)\n",
    "                out = convDrop(out)\n",
    "                out = out.view(-1, 217*15)\n",
    "                out = tanh(self.fc1(out))\n",
    "                out = MLPDrop(out)\n",
    "                out = tanh(self.fc2(out))\n",
    "                out = MLPDrop(out)\n",
    "                out = tanh(self.fc3(out))\n",
    "                out = MLPDrop(out)\n",
    "                out = softmax(out)\n",
    "                \n",
    "                #out_lossv = nn.MSELoss()\n",
    "                #lossv = out_lossv(out.float(), valtargetV.float())\n",
    "                lossv = criterion(out.float(), torch.max(valtargetV,0)[1])\n",
    "                \n",
    "                valsumerror = valsumerror + lossv[0].detach().numpy()[0]\n",
    "                \n",
    "                count = 0\n",
    "                \n",
    "                for batch in range(int(vmbatch/vnum_batch)):\n",
    "                    if torch.max(valtargetV,0)[1][batch] == torch.max(out,1)[1][batch]:\n",
    "                        count = count + 1\n",
    "                \n",
    "                accuracy = count / vmbatch\n",
    "            \n",
    "            print(\"Train Error: \",trainsumerror/num_batch, \" Val Error: \", valsumerror/vnum_batch, \" Accuracy: \", accuracy)\n",
    "            \n",
    "            valsumerrora.append(valsumerror/vnum_batch)\n",
    "            trainsumerrora.append(trainsumerror/num_batch)\n",
    "            accuracya.append(accuracy)\n",
    "            \n",
    "        endtime = time.time()\n",
    "        averageTime = (endtime - starttime)/mepoch\n",
    "        print(averageTime)\n",
    "        \n",
    "        plt.figure(1)\n",
    "        fig, ax = plt.subplots()\n",
    "        ax.plot(epocha, trainsumerrora, 'r', label = 'Training Error')\n",
    "        ax.plot(epocha, valsumerrora, 'b', label = 'Validation Error')\n",
    "        plt.xlabel('Epochs')\n",
    "        plt.ylabel('Loss')\n",
    "        legend = ax.legend()\n",
    "        plt.show()\n",
    "        \n",
    "        plt.figure(2)\n",
    "        plt.plot(epocha, accuracya, 'b', label = 'Validation Accuracy')\n",
    "        plt.xlabel('Epochs')\n",
    "        plt.ylabel('Accuracy')\n",
    "        legend = plt.legend()\n",
    "        plt.show()"
   ]
  },
  {
   "cell_type": "code",
   "execution_count": 55,
   "metadata": {},
   "outputs": [
    {
     "name": "stdout",
     "output_type": "stream",
     "text": [
      "243\n",
      "58\n",
      "Train Error:  1.10108149052  Val Error:  1.10118222237  Accuracy:  0.22413793103448276\n",
      "Train Error:  1.10134196281  Val Error:  1.10194158554  Accuracy:  0.25862068965517243\n",
      "Train Error:  1.09787023067  Val Error:  1.09572780132  Accuracy:  0.43103448275862066\n",
      "Train Error:  1.09780490398  Val Error:  1.09834218025  Accuracy:  0.3103448275862069\n",
      "Train Error:  1.09472060204  Val Error:  1.09705376625  Accuracy:  0.3793103448275862\n",
      "Train Error:  1.09387481213  Val Error:  1.09182596207  Accuracy:  0.39655172413793105\n",
      "Train Error:  1.09454250336  Val Error:  1.09120845795  Accuracy:  0.5\n",
      "Train Error:  1.09133589268  Val Error:  1.08297407627  Accuracy:  0.5517241379310345\n",
      "Train Error:  1.08906698227  Val Error:  1.08976376057  Accuracy:  0.46551724137931033\n",
      "Train Error:  1.08105635643  Val Error:  1.07805192471  Accuracy:  0.5689655172413793\n",
      "Train Error:  1.082457304  Val Error:  1.06945204735  Accuracy:  0.5344827586206896\n",
      "Train Error:  1.08002233505  Val Error:  1.0689677  Accuracy:  0.5344827586206896\n",
      "Train Error:  1.07323360443  Val Error:  1.08568656445  Accuracy:  0.4827586206896552\n",
      "Train Error:  1.06984102726  Val Error:  1.06152951717  Accuracy:  0.5517241379310345\n",
      "Train Error:  1.07043802738  Val Error:  1.04211652279  Accuracy:  0.5689655172413793\n",
      "Train Error:  1.05715560913  Val Error:  1.05220413208  Accuracy:  0.6379310344827587\n",
      "Train Error:  1.06773388386  Val Error:  1.04845058918  Accuracy:  0.5517241379310345\n",
      "Train Error:  1.05277264118  Val Error:  1.0623306036  Accuracy:  0.5862068965517241\n",
      "Train Error:  1.05477380753  Val Error:  1.05765998363  Accuracy:  0.603448275862069\n",
      "Train Error:  1.05288636684  Val Error:  1.03976643085  Accuracy:  0.5172413793103449\n",
      "Train Error:  1.06512308121  Val Error:  1.03266894817  Accuracy:  0.5862068965517241\n",
      "Train Error:  1.0392152071  Val Error:  1.00686883926  Accuracy:  0.6206896551724138\n",
      "Train Error:  1.04888260365  Val Error:  1.04974508286  Accuracy:  0.5689655172413793\n",
      "Train Error:  1.04415428638  Val Error:  1.0421615839  Accuracy:  0.5344827586206896\n",
      "Train Error:  1.04741358757  Val Error:  0.986040711403  Accuracy:  0.6206896551724138\n",
      "7.2031063461303715\n"
     ]
    },
    {
     "data": {
      "text/plain": [
       "<matplotlib.figure.Figure at 0xa9b8434c>"
      ]
     },
     "metadata": {},
     "output_type": "display_data"
    },
    {
     "data": {
      "image/png": "[encoded data removed]",
      "text/plain": [
       "<matplotlib.figure.Figure at 0xa26900ec>"
      ]
     },
     "metadata": {},
     "output_type": "display_data"
    },
    {
     "data": {
      "image/png": "[encoded data removed]",
      "text/plain": [
       "<matplotlib.figure.Figure at 0xa26629ac>"
      ]
     },
     "metadata": {},
     "output_type": "display_data"
    }
   ],
   "source": [
    "ecgModel = ecg2class()\n",
    "ecgModel.train()"
   ]
  },
  {
   "cell_type": "code",
   "execution_count": 45,
   "metadata": {},
   "outputs": [
    {
     "name": "stdout",
     "output_type": "stream",
     "text": [
      "\n",
      " 2.5116 -1.1686  1.1698\n",
      "-0.9996 -0.4317 -0.0736\n",
      " 1.3278 -0.4055  0.1338\n",
      " 0.2686 -0.0404  1.5717\n",
      "-0.8774 -0.0040  0.3425\n",
      "-0.3937  0.4106 -0.2160\n",
      " 0.8098 -0.8322 -0.7530\n",
      "[torch.FloatTensor of size 7x3]\n",
      "\n",
      "\n",
      " 0\n",
      " 5\n",
      " 3\n",
      "[torch.LongTensor of size 3]\n",
      "\n"
     ]
    }
   ],
   "source": []
  },
  {
   "cell_type": "code",
   "execution_count": null,
   "metadata": {
    "collapsed": true
   },
   "outputs": [],
   "source": []
  },
  {
   "cell_type": "code",
   "execution_count": null,
   "metadata": {
    "collapsed": true
   },
   "outputs": [],
   "source": []
  },
  {
   "cell_type": "code",
   "execution_count": null,
   "metadata": {
    "collapsed": true
   },
   "outputs": [],
   "source": []
  }
 ],
 "metadata": {
  "kernelspec": {
   "display_name": "Python 3",
   "language": "python",
   "name": "python3"
  },
  "language_info": {
   "codemirror_mode": {
    "name": "ipython",
    "version": 3
   },
   "file_extension": ".py",
   "mimetype": "text/x-python",
   "name": "python",
   "nbconvert_exporter": "python",
   "pygments_lexer": "ipython3",
   "version": "3.6.3"
  }
 },
 "nbformat": 4,
 "nbformat_minor": 2
}
