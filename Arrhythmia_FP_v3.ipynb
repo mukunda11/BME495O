{
 "cells": [
  {
   "cell_type": "code",
   "execution_count": 1,
   "metadata": {
    "collapsed": true
   },
   "outputs": [],
   "source": [
    "import torch\n",
    "import torch.nn as nn\n",
    "import torch.nn.functional as F\n",
    "import torch.optim as optim\n",
    "from torch.autograd import Variable\n",
    "import matplotlib.pyplot as plt\n",
    "import time\n",
    "import numpy as np\n",
    "import pandas as pd"
   ]
  },
  {
   "cell_type": "code",
   "execution_count": 2,
   "metadata": {
    "collapsed": true
   },
   "outputs": [],
   "source": [
    "def normalize(df):\n",
    "    result = df.copy()\n",
    "    print(len(result.transpose()))\n",
    "    for feature_name in range(len(result.transpose())):\n",
    "        max_value = df[1:1800, feature_name].max()\n",
    "        min_value = df[1:1800, feature_name].min()\n",
    "        a = 1 / (max_value-min_value)\n",
    "        b = 1 - a * max_value\n",
    "        result[1:1800,feature_name] = (df[1:1800, feature_name] * a + b)\n",
    "    return result"
   ]
  },
  {
   "cell_type": "code",
   "execution_count": null,
   "metadata": {
    "collapsed": true
   },
   "outputs": [],
   "source": []
  },
  {
   "cell_type": "code",
   "execution_count": 64,
   "metadata": {},
   "outputs": [],
   "source": [
    "class ecg2class(nn.Module):\n",
    "    def __init__(self):\n",
    "        super(ecg2class, self).__init__()\n",
    "        self.conv1 = nn.Conv1d(1, 30, 5)\n",
    "        self.conv2 = nn.Conv1d(30, 30, 5)\n",
    "        self.conv3 = nn.Conv1d(30, 15, 5)\n",
    "        self.conv4 = nn.Conv1d(15, 15, 5)\n",
    "        self.conv5 = nn.Conv1d(15, 15, 5)\n",
    "        self.fc1 = nn.Linear(217*15, 217*3)\n",
    "        self.fc2 = nn.Linear(217*3, 217)\n",
    "        self.fc3 = nn.Linear(217, 3)\n",
    "        \n",
    "        data0 = pd.read_csv('arrhythmia5_TrainData.csv', header=None, low_memory=False)\n",
    "        y = data0.values.astype(float)\n",
    "        self.z = normalize(y)\n",
    "        \n",
    "        valdata0 = pd.read_csv('arrhythmia5_ValData.csv', header=None, low_memory=False)\n",
    "        valy = valdata0.values.astype(float)\n",
    "        self.valz = normalize(valy)\n",
    "    \n",
    "    def train(self):\n",
    "        mbatch = 242;\n",
    "        mepoch = 25;\n",
    "        output_nodes = 3;\n",
    "        num_batch = 2;\n",
    "        vnum_batch = 1;\n",
    "        vmbatch = 58;\n",
    "        convDrop = nn.Dropout(p=0.2)\n",
    "        MLPDrop = nn.Dropout(p=0.5)\n",
    "        tanh = nn.Tanh()\n",
    "        softmax = nn.Softmax(1)\n",
    "        \n",
    "        trainsumerrora = []\n",
    "        valsumerrora = []\n",
    "        accuracya = []\n",
    "        accuracya1 = []\n",
    "        epocha = []\n",
    "        starttime = time.time()\n",
    "        optimizer = optim.SGD(self.parameters(), lr = 0.01, momentum = 0.9)\n",
    "        criterion = nn.CrossEntropyLoss()\n",
    "        out_loss = nn.MSELoss()\n",
    "        \n",
    "        for epoch in range(0, mepoch):\n",
    "            epocha.append(epoch)  \n",
    "            trainsumerror = 0\n",
    "            valsumerror = 0\n",
    "            x = np.random.permutation(self.z.transpose())\n",
    "            data1 = torch.FloatTensor(x.transpose())\n",
    "            input_date = data1[1:1799].unsqueeze(1).transpose(0,2)\n",
    "            labels = data1[0]\n",
    "            \n",
    "            count1 = 0\n",
    "            \n",
    "            for z in range(num_batch):\n",
    "                optimizer.zero_grad()\n",
    "                start = int(mbatch / num_batch  * z);\n",
    "                finish = int(mbatch / num_batch * (z+1)- 1);\n",
    "                input_dat = input_date[start:finish, :, :]\n",
    "                target_matrix = torch.zeros(output_nodes, int(mbatch / num_batch)-1).double()\n",
    "                \n",
    "                for batch in range(int(mbatch/num_batch)-1):\n",
    "                    idx = start + batch\n",
    "                    target_matrix[int(labels[idx]), batch] = 1\n",
    "                    \n",
    "                \n",
    "                targetV = Variable(target_matrix.float())\n",
    "                \n",
    "                out = tanh(self.conv1(Variable(input_dat)))\n",
    "                out = tanh(self.conv2(out))\n",
    "                out = F.max_pool1d(out, 2)\n",
    "                out = convDrop(out)\n",
    "                out = tanh(self.conv3(out))\n",
    "                out = tanh(self.conv4(out))\n",
    "                out = F.max_pool1d(out, 2)\n",
    "                out = convDrop(out)\n",
    "                out = tanh(self.conv4(out))\n",
    "                out = tanh(self.conv5(out))\n",
    "                out = F.max_pool1d(out, 2)\n",
    "                out = convDrop(out)\n",
    "                out = out.view(-1, 217*15)\n",
    "                out = tanh(self.fc1(out))\n",
    "                out = MLPDrop(out)\n",
    "                out = tanh(self.fc2(out))\n",
    "                out = MLPDrop(out)\n",
    "                out = tanh(self.fc3(out))\n",
    "                out = MLPDrop(out)\n",
    "                out = softmax(out)\n",
    "                \n",
    "                #loss = out_loss(out.float(), targetV.float())\n",
    "                #print(torch.max(targetV.long(),0)[1])\n",
    "                loss = criterion(out.float(), torch.max(targetV,0)[1])\n",
    "                loss.backward()\n",
    "                optimizer.step()\n",
    "            \n",
    "                trainsumerror = trainsumerror + loss[0].detach().numpy()[0]\n",
    "                \n",
    "                for batch in range(int(mbatch/num_batch)-1):\n",
    "                    if torch.max(targetV,0)[1][batch] == torch.max(out,1)[1][batch]:\n",
    "                        count1 = count1 + 1\n",
    "                        \n",
    "            accuracy1 = count1/mbatch\n",
    "                \n",
    "            count = 0\n",
    "            valx = np.random.permutation(self.valz.transpose())\n",
    "            valdata1 = torch.FloatTensor(valx.transpose())\n",
    "            valinput_dat = valdata1[1:1799].unsqueeze(1).transpose(0,2)\n",
    "            vallabels = valdata1[0]\n",
    "            \n",
    "            for z in range(vnum_batch):\n",
    "                valtarget_matrix = torch.zeros(output_nodes, int(vmbatch / vnum_batch)).double()\n",
    "                \n",
    "                for batch in range(int(vmbatch/vnum_batch)):\n",
    "                    valtarget_matrix[int(labels[batch]), batch] = 1\n",
    "                    \n",
    "                \n",
    "                valtargetV = Variable(valtarget_matrix.float())\n",
    "                \n",
    "                out = tanh(self.conv1(Variable(valinput_dat)))\n",
    "                out = tanh(self.conv2(out))\n",
    "                out = F.max_pool1d(out, 2)\n",
    "                out = convDrop(out)\n",
    "                out = tanh(self.conv3(out))\n",
    "                out = tanh(self.conv4(out))\n",
    "                out = F.max_pool1d(out, 2)\n",
    "                out = convDrop(out)\n",
    "                out = tanh(self.conv4(out))\n",
    "                out = tanh(self.conv5(out))\n",
    "                out = F.max_pool1d(out, 2)\n",
    "                out = convDrop(out)\n",
    "                out = out.view(-1, 217*15)\n",
    "                out = tanh(self.fc1(out))\n",
    "                out = MLPDrop(out)\n",
    "                out = tanh(self.fc2(out))\n",
    "                out = MLPDrop(out)\n",
    "                out = tanh(self.fc3(out))\n",
    "                out = MLPDrop(out)\n",
    "                out = softmax(out)\n",
    "                \n",
    "                #out_lossv = nn.MSELoss()\n",
    "                #lossv = out_lossv(out.float(), valtargetV.float())\n",
    "                lossv = criterion(out.float(), torch.max(valtargetV,0)[1])\n",
    "                \n",
    "                valsumerror = valsumerror + lossv[0].detach().numpy()[0]\n",
    "                                \n",
    "                for batch in range(int(vmbatch/vnum_batch)):\n",
    "                    if torch.max(valtargetV,0)[1][batch] == torch.max(out,1)[1][batch]:\n",
    "                        count = count + 1\n",
    "                \n",
    "                accuracy = count / vmbatch\n",
    "            \n",
    "            print(\"Train Error: \",trainsumerror/num_batch, \" Val Error: \", valsumerror/vnum_batch, \" Accuracy: \", accuracy)\n",
    "            \n",
    "            valsumerrora.append(valsumerror/vnum_batch)\n",
    "            trainsumerrora.append(trainsumerror/num_batch)\n",
    "            accuracya.append(accuracy)\n",
    "            accuracya1.append(accuracy1)\n",
    "            \n",
    "        endtime = time.time()\n",
    "        averageTime = (endtime - starttime)/mepoch\n",
    "        print(averageTime)\n",
    "        \n",
    "        plt.figure(1)\n",
    "        fig, ax = plt.subplots()\n",
    "        ax.plot(epocha, trainsumerrora, 'r', label = 'Training Error')\n",
    "        ax.plot(epocha, valsumerrora, 'b', label = 'Validation Error')\n",
    "        plt.xlabel('Epochs')\n",
    "        plt.ylabel('Loss')\n",
    "        legend = ax.legend()\n",
    "        plt.show()\n",
    "        \n",
    "        plt.figure(2)\n",
    "        plt.plot(epocha, accuracya1, 'r', label = 'Training Accuracy')\n",
    "        plt.plot(epocha, accuracya, 'b', label = 'Validation Accuracy')\n",
    "        plt.xlabel('Epochs')\n",
    "        plt.ylabel('Accuracy')\n",
    "        legend = plt.legend()\n",
    "        plt.show()"
   ]
  },
  {
   "cell_type": "code",
   "execution_count": 65,
   "metadata": {},
   "outputs": [
    {
     "name": "stdout",
     "output_type": "stream",
     "text": [
      "243\n",
      "58\n",
      "Train Error:  1.10002487898  Val Error:  1.10144364834  Accuracy:  0.22413793103448276\n",
      "Train Error:  1.10064911842  Val Error:  1.09658682346  Accuracy:  0.4482758620689655\n",
      "Train Error:  1.0959790349  Val Error:  1.09514188766  Accuracy:  0.4827586206896552\n",
      "Train Error:  1.0938026309  Val Error:  1.09459459782  Accuracy:  0.5172413793103449\n",
      "Train Error:  1.0918841958  Val Error:  1.08445203304  Accuracy:  0.5517241379310345\n",
      "Train Error:  1.08696377277  Val Error:  1.07820987701  Accuracy:  0.5517241379310345\n",
      "Train Error:  1.08329463005  Val Error:  1.07228922844  Accuracy:  0.6724137931034483\n",
      "Train Error:  1.07152092457  Val Error:  1.08717191219  Accuracy:  0.5344827586206896\n",
      "Train Error:  1.07273495197  Val Error:  1.0627964735  Accuracy:  0.5862068965517241\n",
      "Train Error:  1.0657505393  Val Error:  1.07832360268  Accuracy:  0.5172413793103449\n",
      "Train Error:  1.06115269661  Val Error:  1.04705893993  Accuracy:  0.5\n",
      "Train Error:  1.05602872372  Val Error:  1.0439208746  Accuracy:  0.6896551724137931\n",
      "Train Error:  1.06417906284  Val Error:  1.02186954021  Accuracy:  0.5689655172413793\n",
      "Train Error:  1.05081433058  Val Error:  1.0552945137  Accuracy:  0.5172413793103449\n",
      "Train Error:  1.05759000778  Val Error:  1.07288837433  Accuracy:  0.5172413793103449\n",
      "Train Error:  1.04483395815  Val Error:  1.02680504322  Accuracy:  0.603448275862069\n",
      "Train Error:  1.03881275654  Val Error:  1.08572661877  Accuracy:  0.4482758620689655\n",
      "Train Error:  1.04104948044  Val Error:  1.03097271919  Accuracy:  0.5862068965517241\n",
      "Train Error:  1.04471790791  Val Error:  1.00800967216  Accuracy:  0.6551724137931034\n",
      "Train Error:  1.04784661531  Val Error:  1.05199861526  Accuracy:  0.5517241379310345\n",
      "Train Error:  1.03699964285  Val Error:  1.02526652813  Accuracy:  0.5517241379310345\n",
      "Train Error:  1.02987515926  Val Error:  1.11301672459  Accuracy:  0.43103448275862066\n",
      "Train Error:  1.04462790489  Val Error:  1.07438731194  Accuracy:  0.5689655172413793\n",
      "Train Error:  1.04116529226  Val Error:  0.980578541756  Accuracy:  0.5862068965517241\n",
      "Train Error:  1.02819409966  Val Error:  1.10829687119  Accuracy:  0.43103448275862066\n",
      "9.624338798522949\n"
     ]
    },
    {
     "data": {
      "text/plain": [
       "<matplotlib.figure.Figure at 0xa9a246ac>"
      ]
     },
     "metadata": {},
     "output_type": "display_data"
    },
    {
     "data": {
      "image/png": "[encoded data removed]",
      "text/plain": [
       "<matplotlib.figure.Figure at 0xaa24ae8c>"
      ]
     },
     "metadata": {},
     "output_type": "display_data"
    },
    {
     "data": {
      "image/png": "[encoded data removed]",
      "text/plain": [
       "<matplotlib.figure.Figure at 0xa9a4e0ac>"
      ]
     },
     "metadata": {},
     "output_type": "display_data"
    }
   ],
   "source": [
    "ecgModel = ecg2class()\n",
    "ecgModel.train()"
   ]
  },
  {
   "cell_type": "code",
   "execution_count": null,
   "metadata": {},
   "outputs": [],
   "source": []
  },
  {
   "cell_type": "code",
   "execution_count": null,
   "metadata": {
    "collapsed": true
   },
   "outputs": [],
   "source": []
  },
  {
   "cell_type": "code",
   "execution_count": null,
   "metadata": {
    "collapsed": true
   },
   "outputs": [],
   "source": []
  },
  {
   "cell_type": "code",
   "execution_count": null,
   "metadata": {
    "collapsed": true
   },
   "outputs": [],
   "source": []
  }
 ],
 "metadata": {
  "kernelspec": {
   "display_name": "Python 3",
   "language": "python",
   "name": "python3"
  },
  "language_info": {
   "codemirror_mode": {
    "name": "ipython",
    "version": 3
   },
   "file_extension": ".py",
   "mimetype": "text/x-python",
   "name": "python",
   "nbconvert_exporter": "python",
   "pygments_lexer": "ipython3",
   "version": "3.6.3"
  }
 },
 "nbformat": 4,
 "nbformat_minor": 2
}
