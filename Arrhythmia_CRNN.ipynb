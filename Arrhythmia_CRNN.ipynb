{
 "cells": [
  {
   "cell_type": "code",
   "execution_count": 1,
   "metadata": {
    "collapsed": true
   },
   "outputs": [],
   "source": [
    "from __future__ import print_function\n",
    "import torch\n",
    "import torch.nn as nn\n",
    "import torch.nn.functional as F\n",
    "from torch.autograd import Variable\n",
    "import torch.optim as optim\n",
    "import numpy as np\n",
    "#import matplotlib\n",
    "#matplotlib.use('GtkAgg')\n",
    "import matplotlib.pyplot as plt\n",
    "import pandas as pd"
   ]
  },
  {
   "cell_type": "code",
   "execution_count": 2,
   "metadata": {
    "collapsed": true,
    "scrolled": true
   },
   "outputs": [],
   "source": [
    "def normalize(df):\n",
    "    result = df.copy()\n",
    "    print(len(result.transpose()))\n",
    "    for feature_name in range(len(result.transpose())):\n",
    "        max_value = df[1:1800, feature_name].max()\n",
    "        min_value = df[1:1800, feature_name].min()\n",
    "        a = 1 / (max_value-min_value)\n",
    "        b = 1 - a * max_value\n",
    "        result[1:1800,feature_name] = (df[1:1800, feature_name] * a + b)\n",
    "    return result"
   ]
  },
  {
   "cell_type": "code",
   "execution_count": 3,
   "metadata": {
    "collapsed": true
   },
   "outputs": [],
   "source": [
    "class Sequence(nn.Module):\n",
    "    def __init__(self):\n",
    "        super(Sequence, self).__init__()        \n",
    "        self.lstm1 = nn.LSTMCell(1798,51)\n",
    "        self.lstm2 = nn.LSTMCell(51, 3)\n",
    "        self.linear = nn.Linear(3, 3)\n",
    "        \n",
    "        self.conv1 = nn.Conv1d(1, 30, 5)\n",
    "        self.conv2 = nn.Conv1d(30, 30, 5)\n",
    "        self.conv3 = nn.Conv1d(30, 15, 5)\n",
    "        self.conv4 = nn.Conv1d(15, 15, 5)\n",
    "        self.conv5 = nn.Conv1d(15, 15, 5)\n",
    "        self.fc1 = nn.Linear(217*15, 217*3)\n",
    "        self.fc2 = nn.Linear(217*3, 217)\n",
    "        self.fc3 = nn.Linear(217, 3)\n",
    "        \n",
    "        self.fc4 = nn.Linear(6, 3)\n",
    "\n",
    "    def forward(self, input, future = 0):\n",
    "        convDrop = nn.Dropout(p=0.2)\n",
    "        MLPDrop = nn.Dropout(p=0.5)\n",
    "        tanh = nn.Tanh()\n",
    "        softmax = nn.Softmax(1)\n",
    "        \n",
    "        outputs = []\n",
    "        h_t = Variable(torch.zeros(1, 51).double(), requires_grad=False)\n",
    "        c_t = Variable(torch.zeros(1, 51).double(), requires_grad=False)\n",
    "        h_t2 = Variable(torch.zeros(1, 3).double(), requires_grad=False)\n",
    "        c_t2 = Variable(torch.zeros(1, 3).double(), requires_grad=False)\n",
    "        \n",
    "        for i, input_t in enumerate(input.chunk(input.size(1), dim=1)):\n",
    "            h_t, c_t = self.lstm1(input_t.transpose(1,0), (h_t, c_t))\n",
    "\n",
    "            h_t2, c_t2 = self.lstm2(h_t, (h_t2, c_t2))\n",
    "            output = self.linear(h_t2)\n",
    "            outputs += [output]\n",
    "            #print('ht2:', h_t2)\n",
    "        for i in range(future):# if we should predict the future\n",
    "            h_t, c_t = self.lstm1(output, (h_t, c_t))\n",
    "            h_t2, c_t2 = self.lstm2(h_t, (h_t2, c_t2))\n",
    "            output = self.linear(h_t2)\n",
    "            outputs += [output]\n",
    "        outputs = torch.stack(outputs, 1).squeeze(2)\n",
    "                \n",
    "        out = tanh(self.conv1(input.unsqueeze(1).transpose(0,2)))\n",
    "        out = tanh(self.conv2(out))\n",
    "        out = F.max_pool1d(out, 2)\n",
    "        out = convDrop(out)\n",
    "        out = tanh(self.conv3(out))\n",
    "        out = tanh(self.conv4(out))\n",
    "        out = F.max_pool1d(out, 2)\n",
    "        out = convDrop(out)\n",
    "        out = tanh(self.conv4(out))\n",
    "        out = tanh(self.conv5(out))\n",
    "        out = F.max_pool1d(out, 2)\n",
    "        out = convDrop(out)\n",
    "        out = out.view(-1, 217*15)\n",
    "        out = tanh(self.fc1(out))\n",
    "        out = MLPDrop(out)\n",
    "        out = tanh(self.fc2(out))\n",
    "        out = MLPDrop(out)\n",
    "        out = tanh(self.fc3(out))\n",
    "        out = MLPDrop(out)\n",
    "        \n",
    "        concatR = torch.cat((outputs.squeeze(), out),1)\n",
    "        out1 = tanh(self.fc4(concatR))\n",
    "        out1 = MLPDrop(out1)\n",
    "        out1 = softmax(out1)\n",
    "        \n",
    "        return out1\n"
   ]
  },
  {
   "cell_type": "code",
   "execution_count": 4,
   "metadata": {
    "scrolled": false
   },
   "outputs": [
    {
     "name": "stdout",
     "output_type": "stream",
     "text": [
      "243\n",
      "58\n",
      "0\n",
      "1\n",
      "2\n",
      "3\n",
      "4\n",
      "5\n",
      "6\n",
      "7\n",
      "8\n",
      "9\n",
      "10\n",
      "11\n",
      "12\n",
      "13\n",
      "14\n",
      "15\n",
      "16\n",
      "17\n",
      "18\n",
      "19\n",
      "20\n",
      "21\n",
      "22\n",
      "23\n",
      "24\n"
     ]
    },
    {
     "data": {
      "text/plain": [
       "<matplotlib.figure.Figure at 0xaa2ccf4c>"
      ]
     },
     "metadata": {},
     "output_type": "display_data"
    },
    {
     "data": {
      "image/png": "[encoded data removed]",
      "text/plain": [
       "<matplotlib.figure.Figure at 0xaa2d378c>"
      ]
     },
     "metadata": {},
     "output_type": "display_data"
    },
    {
     "data": {
      "image/png": "[encoded data removed]",
      "text/plain": [
       "<matplotlib.figure.Figure at 0xaa30694c>"
      ]
     },
     "metadata": {},
     "output_type": "display_data"
    }
   ],
   "source": [
    "if __name__ == '__main__':\n",
    "    # set random seed to 0\n",
    "    np.random.seed(0)\n",
    "    torch.manual_seed(0)\n",
    "    \n",
    "    #print(range(len(data)))\n",
    "    #print(len(datat))\n",
    "    data0 = pd.read_csv('arrhythmia5_TrainData.csv', header=None, low_memory=False)\n",
    "    y = data0.values.astype(float)\n",
    "    z = normalize(y)\n",
    "    \n",
    "    \n",
    "    valdata0 = pd.read_csv('arrhythmia5_ValData.csv', header=None, low_memory=False)\n",
    "    valy = valdata0.values.astype(float)\n",
    "    valz = normalize(valy)\n",
    "    \n",
    "    epocha = []\n",
    "    trainsumerrora = []\n",
    "    valsumerrora = []\n",
    "    accuracya = []\n",
    "    accuracya1 = []\n",
    "   \n",
    "    seq = Sequence()\n",
    "    seq.double()\n",
    "    criterion = nn.CrossEntropyLoss() \n",
    "    optimizer = optim.SGD(seq.parameters(), lr=0.01, momentum = 0.9)\n",
    "    mepoch = 25\n",
    "    \n",
    "    for epoch in range(0, mepoch):\n",
    "        x = np.random.permutation(z.transpose())\n",
    "        data1 = torch.DoubleTensor(x.transpose())\n",
    "        input_date = data1[1:1799]\n",
    "        labels = data1[0]\n",
    "                  \n",
    "        valx = np.random.permutation(valz.transpose())\n",
    "        valdata1 = torch.DoubleTensor(valx.transpose())\n",
    "        valinput_date = valdata1[1:1799]\n",
    "        vallabels = valdata1[0]\n",
    "    \n",
    "        target_matrix = torch.zeros(3,243)\n",
    "        valtarget_matrix = torch.zeros(3,58)\n",
    "    \n",
    "        for batch in range(0, 243):\n",
    "            target_matrix[int(labels[batch]), batch] = 1\n",
    "    \n",
    "        for batch in range(0, 58):\n",
    "            valtarget_matrix[int(vallabels[batch]), batch] = 1\n",
    "    \n",
    "        targetV = Variable(target_matrix.double())\n",
    "        valtargetV = Variable(valtarget_matrix.double())\n",
    "    \n",
    "        optimizer.zero_grad()\n",
    "        out = seq(Variable(input_date))\n",
    "        loss = criterion(out.squeeze().float(), torch.max(targetV.squeeze(),0)[1])\n",
    "        loss.backward()\n",
    "        optimizer.step()\n",
    "        \n",
    "        outval = seq(Variable(valinput_date))\n",
    "        valloss = criterion(outval.squeeze().float(), torch.max(valtargetV.squeeze(),0)[1])\n",
    "        \n",
    "        epocha.append(epoch)        \n",
    "        trainsumerrora.append(loss[0].data.numpy()[0])        \n",
    "        valsumerrora.append(valloss[0].data.numpy()[0])\n",
    "        \n",
    "        count = 0\n",
    "        count1 = 0\n",
    "        for batch in range(243):\n",
    "            if torch.max(targetV.squeeze(),0)[1][batch] == torch.max(out.squeeze(),1)[1][batch]:\n",
    "                count1 = count1 + 1\n",
    "                        \n",
    "        accuracy1 = count1/243\n",
    "        \n",
    "        for batch in range(58):\n",
    "            if torch.max(valtargetV.squeeze(),0)[1][batch] == torch.max(outval.squeeze(),1)[1][batch]:\n",
    "                count = count + 1\n",
    "                \n",
    "        accuracy = count / 58\n",
    "        \n",
    "        accuracya.append(accuracy)\n",
    "        accuracya1.append(accuracy1)\n",
    "        \n",
    "        print(epoch)\n",
    "        #print(\"Train Error: \",loss[0].data.numpy()[0], \" Val Error: \", valloss[0].data.numpy()[0])\n",
    "        \n",
    "    #print(trainsumerrora)\n",
    "    #print(epocha)\n",
    "    \n",
    "    plt.figure(1)\n",
    "    fig, ax = plt.subplots()\n",
    "    ax.plot(epocha, trainsumerrora, 'r', label = 'Training Error')\n",
    "    ax.plot(epocha, valsumerrora, 'b', label = 'Validation Error')\n",
    "    plt.xlabel('Epochs')\n",
    "    plt.ylabel('Loss')\n",
    "    legend = ax.legend()\n",
    "    plt.show()\n",
    "        \n",
    "    plt.figure(2)\n",
    "    plt.plot(epocha, accuracya1, 'r', label = 'Training Accuracy')\n",
    "    plt.plot(epocha, accuracya, 'b', label = 'Validation Accuracy')\n",
    "    plt.xlabel('Epochs')\n",
    "    plt.ylabel('Accuracy')\n",
    "    legend = plt.legend()\n",
    "    plt.show()\n",
    "    "
   ]
  },
  {
   "cell_type": "code",
   "execution_count": null,
   "metadata": {
    "collapsed": true
   },
   "outputs": [],
   "source": []
  },
  {
   "cell_type": "code",
   "execution_count": null,
   "metadata": {
    "collapsed": true
   },
   "outputs": [],
   "source": []
  },
  {
   "cell_type": "code",
   "execution_count": null,
   "metadata": {
    "collapsed": true,
    "scrolled": true
   },
   "outputs": [],
   "source": []
  },
  {
   "cell_type": "code",
   "execution_count": null,
   "metadata": {
    "collapsed": true
   },
   "outputs": [],
   "source": [
    "\n",
    "\n",
    "\n",
    "\n",
    "\n",
    "\n",
    "\n",
    "\n",
    "\n",
    "\n",
    "\n",
    "\n",
    "\n",
    "\n",
    "\n",
    "\n"
   ]
  }
 ],
 "metadata": {
  "kernelspec": {
   "display_name": "Python 3",
   "language": "python",
   "name": "python3"
  },
  "language_info": {
   "codemirror_mode": {
    "name": "ipython",
    "version": 3
   },
   "file_extension": ".py",
   "mimetype": "text/x-python",
   "name": "python",
   "nbconvert_exporter": "python",
   "pygments_lexer": "ipython3",
   "version": "3.6.3"
  }
 },
 "nbformat": 4,
 "nbformat_minor": 2
}
